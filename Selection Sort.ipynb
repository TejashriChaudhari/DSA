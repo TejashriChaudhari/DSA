{
 "cells": [
  {
   "cell_type": "code",
   "execution_count": 5,
   "id": "d7bc83e2",
   "metadata": {},
   "outputs": [
    {
     "name": "stdout",
     "output_type": "stream",
     "text": [
      "[2, 7, -9, 88, 76, 567, 4, 5, 3, 11]\n",
      "[2, 7, -9, 88, 76, 567, 4, 5, 3, 11]\n",
      "[2, 7, -9, 88, 76, 567, 4, 5, 3, 11]\n",
      "[2, 7, -9, 88, 76, 567, 4, 5, 3, 11]\n"
     ]
    },
    {
     "ename": "IndexError",
     "evalue": "list index out of range",
     "output_type": "error",
     "traceback": [
      "\u001b[1;31m---------------------------------------------------------------------------\u001b[0m",
      "\u001b[1;31mIndexError\u001b[0m                                Traceback (most recent call last)",
      "Input \u001b[1;32mIn [5]\u001b[0m, in \u001b[0;36m<module>\u001b[1;34m\u001b[0m\n\u001b[0;32m      3\u001b[0m \u001b[38;5;28;01mfor\u001b[39;00m i \u001b[38;5;129;01min\u001b[39;00m \u001b[38;5;28mrange\u001b[39m(n):\n\u001b[0;32m      4\u001b[0m     \u001b[38;5;28;01mfor\u001b[39;00m j \u001b[38;5;129;01min\u001b[39;00m \u001b[38;5;28mrange\u001b[39m(i\u001b[38;5;241m+\u001b[39m\u001b[38;5;241m1\u001b[39m,n):\n\u001b[1;32m----> 5\u001b[0m         \u001b[38;5;28;01mif\u001b[39;00m arr[j]\u001b[38;5;241m>\u001b[39m\u001b[43marr\u001b[49m\u001b[43m[\u001b[49m\u001b[43mj\u001b[49m\u001b[38;5;241;43m+\u001b[39;49m\u001b[38;5;241;43m1\u001b[39;49m\u001b[43m]\u001b[49m:\n\u001b[0;32m      6\u001b[0m             \u001b[38;5;28mprint\u001b[39m(arr)\n",
      "\u001b[1;31mIndexError\u001b[0m: list index out of range"
     ]
    }
   ],
   "source": [
    "arr=[2,7,-9,88,76,567,4,5,3,11]\n",
    "n=len(arr)\n",
    "for i in range(n):\n",
    "    for j in range(i+1,n):\n",
    "        if arr[j]>arr[j+1]:\n",
    "            print(arr)\n",
    "            "
   ]
  },
  {
   "cell_type": "code",
   "execution_count": null,
   "id": "18ffabfa",
   "metadata": {},
   "outputs": [],
   "source": []
  },
  {
   "cell_type": "code",
   "execution_count": 6,
   "id": "ab0501a9",
   "metadata": {},
   "outputs": [
    {
     "name": "stdout",
     "output_type": "stream",
     "text": [
      "[2, -9, 7, 88, 76, 567, 4, 5, 3, 11]\n",
      "[2, -9, 7, 76, 88, 567, 4, 5, 3, 11]\n",
      "[2, -9, 7, 76, 88, 4, 567, 5, 3, 11]\n",
      "[2, -9, 7, 76, 88, 4, 5, 567, 3, 11]\n",
      "[2, -9, 7, 76, 88, 4, 5, 3, 567, 11]\n",
      "[2, -9, 7, 76, 88, 4, 5, 3, 11, 567]\n"
     ]
    },
    {
     "ename": "IndexError",
     "evalue": "list index out of range",
     "output_type": "error",
     "traceback": [
      "\u001b[1;31m---------------------------------------------------------------------------\u001b[0m",
      "\u001b[1;31mIndexError\u001b[0m                                Traceback (most recent call last)",
      "Input \u001b[1;32mIn [6]\u001b[0m, in \u001b[0;36m<module>\u001b[1;34m\u001b[0m\n\u001b[0;32m      3\u001b[0m \u001b[38;5;28;01mfor\u001b[39;00m i \u001b[38;5;129;01min\u001b[39;00m \u001b[38;5;28mrange\u001b[39m(n):\n\u001b[0;32m      4\u001b[0m     \u001b[38;5;28;01mfor\u001b[39;00m j \u001b[38;5;129;01min\u001b[39;00m \u001b[38;5;28mrange\u001b[39m(i\u001b[38;5;241m+\u001b[39m\u001b[38;5;241m1\u001b[39m,n):\n\u001b[1;32m----> 5\u001b[0m         \u001b[38;5;28;01mif\u001b[39;00m arr[j]\u001b[38;5;241m>\u001b[39m\u001b[43marr\u001b[49m\u001b[43m[\u001b[49m\u001b[43mj\u001b[49m\u001b[38;5;241;43m+\u001b[39;49m\u001b[38;5;241;43m1\u001b[39;49m\u001b[43m]\u001b[49m:\n\u001b[0;32m      6\u001b[0m             arr[j],arr[j\u001b[38;5;241m+\u001b[39m\u001b[38;5;241m1\u001b[39m]\u001b[38;5;241m=\u001b[39marr[j\u001b[38;5;241m+\u001b[39m\u001b[38;5;241m1\u001b[39m],arr[j]\n\u001b[0;32m      7\u001b[0m             \u001b[38;5;28mprint\u001b[39m(arr)\n",
      "\u001b[1;31mIndexError\u001b[0m: list index out of range"
     ]
    }
   ],
   "source": [
    "arr=[2,7,-9,88,76,567,4,5,3,11]\n",
    "n=len(arr)\n",
    "for i in range(n):\n",
    "    for j in range(i+1,n):\n",
    "        if arr[j]>arr[j+1]:\n",
    "            arr[j],arr[j+1]=arr[j+1],arr[j]\n",
    "            print(arr)"
   ]
  },
  {
   "cell_type": "code",
   "execution_count": null,
   "id": "af50c57c",
   "metadata": {},
   "outputs": [],
   "source": []
  },
  {
   "cell_type": "code",
   "execution_count": 12,
   "id": "fc9aac12",
   "metadata": {},
   "outputs": [
    {
     "name": "stdout",
     "output_type": "stream",
     "text": [
      "[1, 6, 8, 4, 5, 2]\n",
      "[1, 6, 4, 8, 5, 2]\n",
      "[1, 6, 4, 5, 8, 2]\n",
      "[1, 6, 4, 5, 2, 8]\n"
     ]
    },
    {
     "ename": "IndexError",
     "evalue": "list index out of range",
     "output_type": "error",
     "traceback": [
      "\u001b[1;31m---------------------------------------------------------------------------\u001b[0m",
      "\u001b[1;31mIndexError\u001b[0m                                Traceback (most recent call last)",
      "Input \u001b[1;32mIn [12]\u001b[0m, in \u001b[0;36m<module>\u001b[1;34m\u001b[0m\n\u001b[0;32m      3\u001b[0m \u001b[38;5;28;01mfor\u001b[39;00m i \u001b[38;5;129;01min\u001b[39;00m \u001b[38;5;28mrange\u001b[39m(n\u001b[38;5;241m-\u001b[39m\u001b[38;5;241m1\u001b[39m):\n\u001b[0;32m      4\u001b[0m     \u001b[38;5;28;01mfor\u001b[39;00m j \u001b[38;5;129;01min\u001b[39;00m \u001b[38;5;28mrange\u001b[39m(i\u001b[38;5;241m+\u001b[39m\u001b[38;5;241m1\u001b[39m,n):\n\u001b[1;32m----> 5\u001b[0m         \u001b[38;5;28;01mif\u001b[39;00m arr[j]\u001b[38;5;241m>\u001b[39m\u001b[43marr\u001b[49m\u001b[43m[\u001b[49m\u001b[43mj\u001b[49m\u001b[38;5;241;43m+\u001b[39;49m\u001b[38;5;241;43m1\u001b[39;49m\u001b[43m]\u001b[49m:\n\u001b[0;32m      6\u001b[0m             arr[j],arr[j\u001b[38;5;241m+\u001b[39m\u001b[38;5;241m1\u001b[39m]\u001b[38;5;241m=\u001b[39marr[j\u001b[38;5;241m+\u001b[39m\u001b[38;5;241m1\u001b[39m],arr[j]\n\u001b[0;32m      7\u001b[0m         \u001b[38;5;28mprint\u001b[39m(arr)\n",
      "\u001b[1;31mIndexError\u001b[0m: list index out of range"
     ]
    }
   ],
   "source": [
    "arr=[1,8,6,4,5,2]\n",
    "n=len(arr)\n",
    "for i in range(n-1):\n",
    "    for j in range(i+1,n):\n",
    "        if arr[j]>arr[j+1]:\n",
    "            arr[j],arr[j+1]=arr[j+1],arr[j]\n",
    "        print(arr)"
   ]
  },
  {
   "cell_type": "code",
   "execution_count": null,
   "id": "0e8edd11",
   "metadata": {},
   "outputs": [],
   "source": []
  },
  {
   "cell_type": "code",
   "execution_count": 13,
   "id": "10f00a2c",
   "metadata": {},
   "outputs": [
    {
     "name": "stdout",
     "output_type": "stream",
     "text": [
      "[1, 8, 6, 4, 5, 2]\n",
      "[1, 8, 6, 4, 5, 2]\n",
      "[1, 8, 6, 4, 5, 2]\n",
      "[1, 8, 6, 4, 5, 2]\n",
      "[1, 8, 6, 4, 5, 2]\n",
      "[1, 8, 6, 4, 5, 2]\n",
      "[1, 8, 6, 4, 5, 2]\n",
      "[1, 8, 6, 4, 5, 2]\n",
      "[1, 8, 6, 4, 5, 2]\n",
      "[1, 8, 6, 4, 5, 2]\n",
      "[1, 8, 6, 4, 5, 2]\n",
      "[1, 8, 6, 4, 5, 2]\n",
      "[1, 8, 6, 4, 5, 2]\n",
      "[1, 8, 6, 4, 5, 2]\n",
      "[1, 8, 6, 4, 5, 2]\n"
     ]
    }
   ],
   "source": [
    "arr=[1,8,6,4,5,2]\n",
    "n=len(arr)\n",
    "for i in range(n):\n",
    "    min_index=i\n",
    "    for j in range(i+1,n):\n",
    "        if (arr[j]<arr[min_index]):\n",
    "            min_index=j\n",
    "            arr[j],arr[min_index]=arr[min_index],arr[j]   \n",
    "        print(arr)          \n"
   ]
  },
  {
   "cell_type": "code",
   "execution_count": null,
   "id": "b8f4ba45",
   "metadata": {},
   "outputs": [],
   "source": []
  },
  {
   "cell_type": "code",
   "execution_count": 16,
   "id": "b4bbd11e",
   "metadata": {},
   "outputs": [
    {
     "name": "stdout",
     "output_type": "stream",
     "text": [
      "[8, 6, 5, 4, 2, 1]\n"
     ]
    }
   ],
   "source": [
    "arr=[1,8,6,4,5,2]\n",
    "n=len(arr)\n",
    "for i in range(n):\n",
    "    min_index=i\n",
    "    for j in range(i+1,n):\n",
    "        if (arr[j]<arr[min_index]):\n",
    "            min_index=j\n",
    "        arr[j],arr[min_index]=arr[min_index],arr[j]   \n",
    "print(arr)          \n"
   ]
  },
  {
   "cell_type": "code",
   "execution_count": null,
   "id": "44972428",
   "metadata": {},
   "outputs": [],
   "source": []
  },
  {
   "cell_type": "code",
   "execution_count": 19,
   "id": "77f4c2a7",
   "metadata": {},
   "outputs": [
    {
     "name": "stdout",
     "output_type": "stream",
     "text": [
      "[6, 1, 4, 5, 2, 3]\n",
      "[6, 5, 1, 4, 2, 3]\n",
      "[6, 5, 4, 1, 2, 3]\n",
      "[6, 5, 4, 3, 1, 2]\n",
      "[6, 5, 4, 3, 2, 1]\n"
     ]
    }
   ],
   "source": [
    "##this kinda sorting gave me descending order insread of ascending\n",
    "arr=[1,4,5,6,2,3]\n",
    "n=len(arr)\n",
    "for i in range(n-1):\n",
    "    min_index=i\n",
    "    for j in range(i+1,n):\n",
    "        if arr[j]>arr[min_index]:\n",
    "            min_index=j\n",
    "        arr[i],arr[min_index]=arr[min_index],arr[i]    \n",
    "    print(arr)     \n",
    "        \n",
    "        "
   ]
  },
  {
   "cell_type": "code",
   "execution_count": null,
   "id": "ef77952d",
   "metadata": {},
   "outputs": [],
   "source": []
  },
  {
   "cell_type": "code",
   "execution_count": 24,
   "id": "1080f7bf",
   "metadata": {
    "scrolled": true
   },
   "outputs": [
    {
     "name": "stdout",
     "output_type": "stream",
     "text": [
      "[2, 9, 6, 5, -4]\n",
      "[2, 9, 6, 5, -4]\n",
      "[2, 9, 6, 5, -4]\n",
      "[-4, 9, 6, 5, 2]\n",
      "[-4, 6, 9, 5, 2]\n",
      "[-4, 5, 9, 6, 2]\n",
      "[-4, 2, 9, 6, 5]\n",
      "[-4, 2, 6, 9, 5]\n",
      "[-4, 2, 5, 9, 6]\n",
      "[-4, 2, 5, 6, 9]\n"
     ]
    }
   ],
   "source": [
    "arr=[2,9,6,5,-4]\n",
    "n=len(arr)\n",
    "for i in range(n):\n",
    "    min_index=i\n",
    "    for j in range(i+1,n):\n",
    "        if arr[min_index]>arr[j]:\n",
    "            min_index=j\n",
    "        arr[min_index],arr[i]=arr[i],arr[min_index]\n",
    "        print(arr)\n",
    "        \n",
    "    "
   ]
  },
  {
   "cell_type": "code",
   "execution_count": null,
   "id": "b1405d30",
   "metadata": {},
   "outputs": [],
   "source": []
  },
  {
   "cell_type": "code",
   "execution_count": 25,
   "id": "73d0034c",
   "metadata": {},
   "outputs": [
    {
     "name": "stdout",
     "output_type": "stream",
     "text": [
      "[-4, 9, 6, 5, 2]\n",
      "[-4, 2, 9, 6, 5]\n",
      "[-4, 2, 5, 9, 6]\n",
      "[-4, 2, 5, 6, 9]\n",
      "[-4, 2, 5, 6, 9]\n"
     ]
    }
   ],
   "source": [
    "arr=[2,9,6,5,-4]\n",
    "n=len(arr)\n",
    "for i in range(n): ##here I put n i.e. len of arr, bcoz of this I got sorted list 2 times,to avoid this , try to put n-1\n",
    "    min_index=i\n",
    "    for j in range(i+1,n):\n",
    "        if arr[min_index]>arr[j]:\n",
    "            min_index=j\n",
    "        arr[min_index],arr[i]=arr[i],arr[min_index]\n",
    "        \n",
    "    print(arr)\n",
    "        \n",
    "    "
   ]
  },
  {
   "cell_type": "code",
   "execution_count": null,
   "id": "ffa1b706",
   "metadata": {},
   "outputs": [],
   "source": []
  },
  {
   "cell_type": "code",
   "execution_count": 42,
   "id": "ce4cc80e",
   "metadata": {},
   "outputs": [
    {
     "name": "stdout",
     "output_type": "stream",
     "text": [
      "[1, 4, 6, 3, 2, 9]\n",
      "[1, 2, 6, 3, 4, 9]\n",
      "[1, 2, 3, 6, 4, 9]\n",
      "[1, 2, 3, 4, 6, 9]\n",
      "[1, 2, 3, 4, 6, 9]\n"
     ]
    }
   ],
   "source": [
    "##this is the perfect code for selection sort\n",
    "arr=[9,4,6,3,2,1]\n",
    "n=len(arr)\n",
    "for i in range(n-1): #n-1 shows no of steps\n",
    "    min_index=i      #we fixed min no's index first then we will be going to compare that through whole list\n",
    "    for j in range(i+1,n):  #we will be comparing i with its next index and so on...so i+1\n",
    "        if arr[j]<arr[min_index]: #if fixed min_index is > than next index , then we will make next index as min \n",
    "            min_index=j      #so, min_index = j\n",
    "            \n",
    "#once we do that we have to swap the position of those ele, fixed min_index will go to place of next index, \n",
    "#which will be get as min\n",
    "        \n",
    "    arr[i],arr[min_index] = arr[min_index],arr[i]\n",
    "    print(arr)"
   ]
  },
  {
   "cell_type": "code",
   "execution_count": null,
   "id": "960a7563",
   "metadata": {},
   "outputs": [],
   "source": []
  },
  {
   "cell_type": "code",
   "execution_count": 40,
   "id": "30432b51",
   "metadata": {},
   "outputs": [
    {
     "name": "stdout",
     "output_type": "stream",
     "text": [
      "5\n",
      "after 1 cycle [1, 5, 7, 66, 4, 2]\n",
      "after 2 cycle [1, 2, 7, 66, 4, 5]\n",
      "after 3 cycle [1, 2, 4, 66, 7, 5]\n",
      "after 4 cycle [1, 2, 4, 5, 7, 66]\n",
      "after 5 cycle [1, 2, 4, 5, 7, 66]\n"
     ]
    }
   ],
   "source": [
    "l = [1,5,7,66,4,2]\n",
    "n = len(l)\n",
    "print(n-1)\n",
    "for i in range(n-1):\n",
    "    # fix ith position\n",
    "    min_ele = l[i]\n",
    "    min_index = i\n",
    "    for j in range(i+1, n):\n",
    "        if min_ele > l[j]:\n",
    "            min_ele = l[j]\n",
    "            min_index = j\n",
    "    l[i], l[min_index] = l[min_index], l[i]\n",
    "    print(f'after {i+1} cycle', l)\n",
    "\n"
   ]
  },
  {
   "cell_type": "code",
   "execution_count": null,
   "id": "84ec7d3e",
   "metadata": {},
   "outputs": [],
   "source": []
  }
 ],
 "metadata": {
  "kernelspec": {
   "display_name": "Python 3 (ipykernel)",
   "language": "python",
   "name": "python3"
  },
  "language_info": {
   "codemirror_mode": {
    "name": "ipython",
    "version": 3
   },
   "file_extension": ".py",
   "mimetype": "text/x-python",
   "name": "python",
   "nbconvert_exporter": "python",
   "pygments_lexer": "ipython3",
   "version": "3.10.1"
  }
 },
 "nbformat": 4,
 "nbformat_minor": 5
}
