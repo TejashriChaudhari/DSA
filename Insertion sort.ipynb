{
 "cells": [
  {
   "cell_type": "code",
   "execution_count": 1,
   "id": "13bdac8e",
   "metadata": {},
   "outputs": [
    {
     "name": "stdout",
     "output_type": "stream",
     "text": [
      "j --> 0 temp --> 5\n",
      "[1, 5, 4, 9, 8, 7]\n",
      "\n",
      "j --> 1 temp --> 4\n",
      "[1, 4, 5, 9, 8, 7]\n",
      "\n",
      "j --> 2 temp --> 9\n",
      "[1, 4, 5, 9, 8, 7]\n",
      "\n",
      "j --> 3 temp --> 8\n",
      "[1, 4, 5, 8, 9, 7]\n",
      "\n",
      "j --> 4 temp --> 7\n",
      "[1, 4, 5, 7, 8, 9]\n",
      "\n",
      "Sorted array--> [1, 4, 5, 7, 8, 9]\n"
     ]
    }
   ],
   "source": [
    "def insertionSort(arr):\n",
    "    n=len(arr)\n",
    "    for i in range(1,n):\n",
    "        j=i-1\n",
    "        print(\"j\",\"-->\",j,end=\" \")\n",
    "        temp=arr[i]\n",
    "        print(\"temp\",\"-->\",temp)\n",
    "        while(j>=0 and arr[j]>temp):\n",
    "            arr[j+1]=arr[j]\n",
    "            j=j-1\n",
    "            \n",
    "            arr[j+1]=temp\n",
    "        print(arr)\n",
    "        print()\n",
    "        \n",
    "arr=[1,5,4,9,8,7]\n",
    "insertionSort(arr)\n",
    "print(\"Sorted array-->\",arr)"
   ]
  },
  {
   "cell_type": "code",
   "execution_count": null,
   "id": "d03a6cc1",
   "metadata": {},
   "outputs": [],
   "source": []
  },
  {
   "cell_type": "markdown",
   "id": "1a119288",
   "metadata": {},
   "source": [
    "# Insertion sort:"
   ]
  },
  {
   "cell_type": "code",
   "execution_count": null,
   "id": "4c2e54ad",
   "metadata": {},
   "outputs": [],
   "source": [
    "##insertion sort mdhe cards aathvyche....mhnje jas aapn cards la arrange karyla shift krto tas"
   ]
  },
  {
   "cell_type": "code",
   "execution_count": 29,
   "id": "8c7f26e7",
   "metadata": {},
   "outputs": [
    {
     "name": "stdout",
     "output_type": "stream",
     "text": [
      "j --> 0\n",
      "[5, 7, 4, 2, 44, 1, 25]\n",
      "\n",
      "j --> 1\n",
      "[5, 4, 7, 2, 44, 1, 25]\n",
      "\n",
      "j --> 0\n",
      "[4, 5, 7, 2, 44, 1, 25]\n",
      "\n",
      "j --> 2\n",
      "[4, 5, 2, 7, 44, 1, 25]\n",
      "\n",
      "j --> 1\n",
      "[4, 2, 5, 7, 44, 1, 25]\n",
      "\n",
      "j --> 0\n",
      "[2, 4, 5, 7, 44, 1, 25]\n",
      "\n",
      "j --> 4\n",
      "[2, 4, 5, 7, 1, 44, 25]\n",
      "\n",
      "j --> 3\n",
      "[2, 4, 5, 1, 7, 44, 25]\n",
      "\n",
      "j --> 2\n",
      "[2, 4, 1, 5, 7, 44, 25]\n",
      "\n",
      "j --> 1\n",
      "[2, 1, 4, 5, 7, 44, 25]\n",
      "\n",
      "j --> 0\n",
      "[1, 2, 4, 5, 7, 44, 25]\n",
      "\n",
      "j --> 5\n",
      "[1, 2, 4, 5, 7, 25, 44]\n",
      "\n",
      "Final sorted array: [1, 2, 4, 5, 7, 25, 44]\n"
     ]
    }
   ],
   "source": [
    "def insertion_sort(arr):\n",
    "    for i in range(1,n):\n",
    "        j=i\n",
    "        while arr[j-1]>arr[j] and j>0:##if we forget to put j>0 then it will be going till -1 thats y index out of range erroe will come\n",
    "            arr[j-1],arr[j]=arr[j],arr[j-1]\n",
    "            j=j-1  ##left most side la janya sathi hi condition aahe\n",
    "            print(\"j\",\"-->\",j)\n",
    "            print(arr)\n",
    "            print()\n",
    "arr=[7,5,4,2,44,1,25]\n",
    "n=len(arr)\n",
    "insertion_sort(arr)\n",
    "print(\"Final sorted array:\",arr)"
   ]
  },
  {
   "cell_type": "code",
   "execution_count": null,
   "id": "ad7c8d26",
   "metadata": {},
   "outputs": [],
   "source": []
  },
  {
   "cell_type": "code",
   "execution_count": null,
   "id": "f38d408e",
   "metadata": {},
   "outputs": [],
   "source": []
  }
 ],
 "metadata": {
  "kernelspec": {
   "display_name": "Python 3 (ipykernel)",
   "language": "python",
   "name": "python3"
  },
  "language_info": {
   "codemirror_mode": {
    "name": "ipython",
    "version": 3
   },
   "file_extension": ".py",
   "mimetype": "text/x-python",
   "name": "python",
   "nbconvert_exporter": "python",
   "pygments_lexer": "ipython3",
   "version": "3.10.1"
  }
 },
 "nbformat": 4,
 "nbformat_minor": 5
}
