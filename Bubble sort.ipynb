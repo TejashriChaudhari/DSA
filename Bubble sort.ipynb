{
 "cells": [
  {
   "cell_type": "markdown",
   "id": "d1463cba",
   "metadata": {},
   "source": [
    "# Bubble sort:"
   ]
  },
  {
   "cell_type": "code",
   "execution_count": 2,
   "id": "9986e0c6",
   "metadata": {},
   "outputs": [
    {
     "ename": "IndexError",
     "evalue": "list index out of range",
     "output_type": "error",
     "traceback": [
      "\u001b[1;31m---------------------------------------------------------------------------\u001b[0m",
      "\u001b[1;31mIndexError\u001b[0m                                Traceback (most recent call last)",
      "Input \u001b[1;32mIn [2]\u001b[0m, in \u001b[0;36m<module>\u001b[1;34m\u001b[0m\n\u001b[0;32m      3\u001b[0m \u001b[38;5;28;01mfor\u001b[39;00m i \u001b[38;5;129;01min\u001b[39;00m \u001b[38;5;28mrange\u001b[39m(n):\n\u001b[0;32m      4\u001b[0m     \u001b[38;5;28;01mfor\u001b[39;00m j \u001b[38;5;129;01min\u001b[39;00m (i\u001b[38;5;241m+\u001b[39m\u001b[38;5;241m1\u001b[39m,n):\n\u001b[1;32m----> 5\u001b[0m         \u001b[38;5;28;01mif\u001b[39;00m \u001b[43marr\u001b[49m\u001b[43m[\u001b[49m\u001b[43mj\u001b[49m\u001b[43m]\u001b[49m\u001b[38;5;241m>\u001b[39marr[j\u001b[38;5;241m+\u001b[39m\u001b[38;5;241m1\u001b[39m]:\n\u001b[0;32m      6\u001b[0m             arr[j],arr[j\u001b[38;5;241m+\u001b[39m\u001b[38;5;241m1\u001b[39m]\u001b[38;5;241m=\u001b[39marr[j\u001b[38;5;241m+\u001b[39m\u001b[38;5;241m1\u001b[39m],arr[j]\n\u001b[0;32m      7\u001b[0m     \u001b[38;5;28mprint\u001b[39m(arr)\n",
      "\u001b[1;31mIndexError\u001b[0m: list index out of range"
     ]
    }
   ],
   "source": [
    "arr=[2,5,-8,99,5,644,3,4,556,3]\n",
    "n=len(arr)\n",
    "for i in range(n):\n",
    "    for j in (i+1,n):\n",
    "        if arr[j]>arr[j+1]:\n",
    "            arr[j],arr[j+1]=arr[j+1],arr[j]\n",
    "    print(arr)  \n",
    "    "
   ]
  },
  {
   "cell_type": "code",
   "execution_count": null,
   "id": "7d7fe78e",
   "metadata": {},
   "outputs": [],
   "source": []
  },
  {
   "cell_type": "code",
   "execution_count": 3,
   "id": "4536ca84",
   "metadata": {},
   "outputs": [
    {
     "name": "stdout",
     "output_type": "stream",
     "text": [
      "[2, -8, 5, 99, 5, 644, 3, 4, 556, 3]\n"
     ]
    },
    {
     "ename": "IndexError",
     "evalue": "list index out of range",
     "output_type": "error",
     "traceback": [
      "\u001b[1;31m---------------------------------------------------------------------------\u001b[0m",
      "\u001b[1;31mIndexError\u001b[0m                                Traceback (most recent call last)",
      "Input \u001b[1;32mIn [3]\u001b[0m, in \u001b[0;36m<module>\u001b[1;34m\u001b[0m\n\u001b[0;32m      3\u001b[0m \u001b[38;5;28;01mfor\u001b[39;00m i \u001b[38;5;129;01min\u001b[39;00m \u001b[38;5;28mrange\u001b[39m(n):\n\u001b[0;32m      4\u001b[0m     \u001b[38;5;28;01mfor\u001b[39;00m j \u001b[38;5;129;01min\u001b[39;00m (i\u001b[38;5;241m+\u001b[39m\u001b[38;5;241m1\u001b[39m,n):\n\u001b[1;32m----> 5\u001b[0m         \u001b[38;5;28;01mif\u001b[39;00m \u001b[43marr\u001b[49m\u001b[43m[\u001b[49m\u001b[43mj\u001b[49m\u001b[43m]\u001b[49m\u001b[38;5;241m>\u001b[39marr[j\u001b[38;5;241m+\u001b[39m\u001b[38;5;241m1\u001b[39m]:\n\u001b[0;32m      6\u001b[0m             arr[j],arr[j\u001b[38;5;241m+\u001b[39m\u001b[38;5;241m1\u001b[39m]\u001b[38;5;241m=\u001b[39marr[j\u001b[38;5;241m+\u001b[39m\u001b[38;5;241m1\u001b[39m],arr[j]\n\u001b[0;32m      7\u001b[0m         \u001b[38;5;28mprint\u001b[39m(arr)\n",
      "\u001b[1;31mIndexError\u001b[0m: list index out of range"
     ]
    }
   ],
   "source": [
    "arr=[2,5,-8,99,5,644,3,4,556,3]\n",
    "n=len(arr)\n",
    "for i in range(n):\n",
    "    for j in (i+1,n):\n",
    "        if arr[j]>arr[j+1]:\n",
    "            arr[j],arr[j+1]=arr[j+1],arr[j]\n",
    "        print(arr)  \n",
    "    "
   ]
  },
  {
   "cell_type": "code",
   "execution_count": null,
   "id": "7f8a1767",
   "metadata": {},
   "outputs": [],
   "source": []
  },
  {
   "cell_type": "code",
   "execution_count": 6,
   "id": "d2c4d097",
   "metadata": {},
   "outputs": [
    {
     "ename": "IndexError",
     "evalue": "list index out of range",
     "output_type": "error",
     "traceback": [
      "\u001b[1;31m---------------------------------------------------------------------------\u001b[0m",
      "\u001b[1;31mIndexError\u001b[0m                                Traceback (most recent call last)",
      "Input \u001b[1;32mIn [6]\u001b[0m, in \u001b[0;36m<module>\u001b[1;34m\u001b[0m\n\u001b[0;32m      3\u001b[0m \u001b[38;5;28;01mfor\u001b[39;00m i \u001b[38;5;129;01min\u001b[39;00m \u001b[38;5;28mrange\u001b[39m(n\u001b[38;5;241m-\u001b[39m\u001b[38;5;241m1\u001b[39m):\n\u001b[0;32m      4\u001b[0m     \u001b[38;5;28;01mfor\u001b[39;00m j \u001b[38;5;129;01min\u001b[39;00m \u001b[38;5;28mrange\u001b[39m(i\u001b[38;5;241m+\u001b[39m\u001b[38;5;241m1\u001b[39m,n):\n\u001b[1;32m----> 5\u001b[0m         \u001b[38;5;28;01mif\u001b[39;00m arr[j]\u001b[38;5;241m>\u001b[39m\u001b[43marr\u001b[49m\u001b[43m[\u001b[49m\u001b[43mj\u001b[49m\u001b[38;5;241;43m+\u001b[39;49m\u001b[38;5;241;43m1\u001b[39;49m\u001b[43m]\u001b[49m:\n\u001b[0;32m      6\u001b[0m             arr[j],arr[j\u001b[38;5;241m+\u001b[39m\u001b[38;5;241m1\u001b[39m]\u001b[38;5;241m=\u001b[39marr[j\u001b[38;5;241m+\u001b[39m\u001b[38;5;241m1\u001b[39m],arr[j]\n\u001b[0;32m      7\u001b[0m     \u001b[38;5;28mprint\u001b[39m(arr[j])\n",
      "\u001b[1;31mIndexError\u001b[0m: list index out of range"
     ]
    }
   ],
   "source": [
    "arr=[1,-3,78,56,4,44,345,5]\n",
    "n=len(arr)\n",
    "for i in range(n-1):\n",
    "    for j in range(i+1,n):\n",
    "        if arr[j]>arr[j+1]:\n",
    "            arr[j],arr[j+1]=arr[j+1],arr[j]\n",
    "    print(arr[j])\n",
    "    print(j)\n",
    "    print(i)"
   ]
  },
  {
   "cell_type": "code",
   "execution_count": null,
   "id": "81b5beb6",
   "metadata": {},
   "outputs": [],
   "source": []
  },
  {
   "cell_type": "code",
   "execution_count": 45,
   "id": "2000ef30",
   "metadata": {},
   "outputs": [
    {
     "name": "stdout",
     "output_type": "stream",
     "text": [
      "[2, 4, -8, 5, 56, 78]\n",
      "[2, -8, 4, 5, 56, 78]\n",
      "[-8, 2, 4, 5, 56, 78]\n",
      "[-8, 2, 4, 5, 56, 78]\n",
      "[-8, 2, 4, 5, 56, 78]\n"
     ]
    }
   ],
   "source": [
    "#bubble sort\n",
    "arr=[2,4,56,-8,5,78]\n",
    "n=len(arr)\n",
    "for i in range(n-1): \n",
    "    for j in range(n-i-1):\n",
    "        if arr[j]>arr[j+1]:\n",
    "            arr[j],arr[j+1]=arr[j+1],arr[j]\n",
    "    print(arr)"
   ]
  },
  {
   "cell_type": "code",
   "execution_count": null,
   "id": "16b9d001",
   "metadata": {},
   "outputs": [],
   "source": []
  },
  {
   "cell_type": "code",
   "execution_count": 10,
   "id": "692f14f3",
   "metadata": {},
   "outputs": [
    {
     "name": "stdout",
     "output_type": "stream",
     "text": [
      "[2, 4, -8, 56, 5, 78]\n",
      "[2, 4, -8, 5, 56, 78]\n",
      "[2, -8, 4, 5, 56, 78]\n",
      "[-8, 2, 4, 5, 56, 78]\n"
     ]
    }
   ],
   "source": [
    "arr=[2,4,56,-8,5,78]\n",
    "n=len(arr)\n",
    "for i in range(n-1):\n",
    "    for j in range(n-i-1):\n",
    "        if arr[j]>arr[j+1]:\n",
    "            arr[j],arr[j+1]=arr[j+1],arr[j]\n",
    "            print(arr)"
   ]
  },
  {
   "cell_type": "code",
   "execution_count": null,
   "id": "e19f782a",
   "metadata": {},
   "outputs": [],
   "source": []
  },
  {
   "cell_type": "code",
   "execution_count": 11,
   "id": "1dc11ac4",
   "metadata": {},
   "outputs": [
    {
     "name": "stdout",
     "output_type": "stream",
     "text": [
      "[-8, 2, 4, 5, 56, 78]\n"
     ]
    }
   ],
   "source": [
    "arr=[2,4,56,-8,5,78]\n",
    "n=len(arr)\n",
    "for i in range(n-1): #this is for no of steps i.e. (n-1)\n",
    "    for j in range(n-i-1): #n-1-i is bcoz ; once we completed 1st cycle of iteration then I just have to focus on arr from 1st to 2nd last\n",
    "        if arr[j]>arr[j+1]:\n",
    "            arr[j],arr[j+1]=arr[j+1],arr[j]\n",
    "print(arr)"
   ]
  },
  {
   "cell_type": "code",
   "execution_count": null,
   "id": "54be0347",
   "metadata": {},
   "outputs": [],
   "source": []
  },
  {
   "cell_type": "markdown",
   "id": "db23dee2",
   "metadata": {},
   "source": [
    "   # Trial and error method:"
   ]
  },
  {
   "cell_type": "code",
   "execution_count": 5,
   "id": "1dcd5873",
   "metadata": {},
   "outputs": [
    {
     "name": "stdout",
     "output_type": "stream",
     "text": [
      "0\n",
      "1\n",
      "2\n",
      "3\n",
      "4\n"
     ]
    }
   ],
   "source": [
    "arr=[2,4,56,-8,5,78]\n",
    "n=len(arr)\n",
    "for i in range(n-1): \n",
    "    print(i)\n",
    "   "
   ]
  },
  {
   "cell_type": "code",
   "execution_count": null,
   "id": "0327d63e",
   "metadata": {},
   "outputs": [],
   "source": []
  },
  {
   "cell_type": "code",
   "execution_count": 10,
   "id": "774127cc",
   "metadata": {},
   "outputs": [
    {
     "name": "stdout",
     "output_type": "stream",
     "text": [
      "0\n",
      "0 1 2 3 4 1\n",
      "0 1 2 3 2\n",
      "0 1 2 3\n",
      "0 1 4\n",
      "0 "
     ]
    }
   ],
   "source": [
    "arr=[2,4,56,-8,5,78]\n",
    "n=len(arr)\n",
    "for i in range(n-1): \n",
    "    print(i)\n",
    "    \n",
    "    for j in range(n-i-1):\n",
    "        print(j,end=\" \")"
   ]
  },
  {
   "cell_type": "code",
   "execution_count": null,
   "id": "f1c0cc95",
   "metadata": {},
   "outputs": [],
   "source": []
  },
  {
   "cell_type": "code",
   "execution_count": null,
   "id": "5be7c154",
   "metadata": {},
   "outputs": [],
   "source": [
    "1\n",
    "22\n",
    "333\n",
    "4444\n"
   ]
  },
  {
   "cell_type": "code",
   "execution_count": 39,
   "id": "3f1b6c1d",
   "metadata": {},
   "outputs": [
    {
     "name": "stdout",
     "output_type": "stream",
     "text": [
      "1 1\n",
      "2\n",
      "3\n",
      "2 1\n",
      "2\n",
      "3\n",
      "3 1\n",
      "2\n",
      "3\n",
      "4 1\n",
      "2\n",
      "3\n"
     ]
    }
   ],
   "source": [
    "for i in range(1,5):\n",
    "    print(i,end=\" \")\n",
    "    for j in range(1,4):\n",
    "        print(j)\n",
    "   "
   ]
  },
  {
   "cell_type": "code",
   "execution_count": 40,
   "id": "3f1129e7",
   "metadata": {},
   "outputs": [
    {
     "name": "stdout",
     "output_type": "stream",
     "text": [
      "1\n",
      "22\n",
      "333\n",
      "4444\n"
     ]
    }
   ],
   "source": [
    "for i in range(1,5):\n",
    "    print(int(i*10**i/9))"
   ]
  },
  {
   "cell_type": "code",
   "execution_count": null,
   "id": "6c7df1b5",
   "metadata": {},
   "outputs": [],
   "source": []
  }
 ],
 "metadata": {
  "kernelspec": {
   "display_name": "Python 3 (ipykernel)",
   "language": "python",
   "name": "python3"
  },
  "language_info": {
   "codemirror_mode": {
    "name": "ipython",
    "version": 3
   },
   "file_extension": ".py",
   "mimetype": "text/x-python",
   "name": "python",
   "nbconvert_exporter": "python",
   "pygments_lexer": "ipython3",
   "version": "3.10.1"
  }
 },
 "nbformat": 4,
 "nbformat_minor": 5
}
