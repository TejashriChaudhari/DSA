{
 "cells": [
  {
   "cell_type": "markdown",
   "id": "33659d81",
   "metadata": {},
   "source": [
    "Check the balance of parenthesis in Python\n",
    "To check balanced parenthesis is a basic interview question where we are asked to find whether the given string(of brackets) is balanced or not. To do this , the traditional way of doing is using stacks but we can also find by using normal programming techniques. Different brackets are  ( ) , [ ] , { }. Question can be asked on any type of bracket or of all types of brackets."
   ]
  },
  {
   "cell_type": "code",
   "execution_count": null,
   "id": "5eec9ab1",
   "metadata": {},
   "outputs": [],
   "source": []
  },
  {
   "cell_type": "code",
   "execution_count": 40,
   "id": "14915126",
   "metadata": {},
   "outputs": [
    {
     "name": "stdout",
     "output_type": "stream",
     "text": [
      "{1+@}-(w)\n",
      "True\n"
     ]
    }
   ],
   "source": [
    "def isbalanced(string):\n",
    "    stack=[]\n",
    "    for char in string:\n",
    "        if char in \"{[(\":\n",
    "            stack.append(char)\n",
    "            \n",
    "             \n",
    "        elif (char==\")\"):\n",
    "            if (not stack or stack[-1]!=\"(\"):\n",
    "                return False\n",
    "            stack.pop()\n",
    "        \n",
    "        elif (char==\"}\"):\n",
    "            if (not stack or stack[-1]!=\"{\"):\n",
    "                return False\n",
    "            stack.pop()\n",
    "        \n",
    "        elif (char==\"]\"):\n",
    "            if (not stack or stack[-1]!=\"[\"):\n",
    "                return False\n",
    "            stack.pop()\n",
    "            \n",
    "       \n",
    "    if (not stack):\n",
    "        return True\n",
    "    return False\n",
    "string=input()\n",
    "ans=isbalanced(string)\n",
    "print(ans)"
   ]
  },
  {
   "cell_type": "code",
   "execution_count": 4,
   "id": "3fda9786",
   "metadata": {},
   "outputs": [
    {
     "name": "stdout",
     "output_type": "stream",
     "text": [
      "{}\n",
      "True\n"
     ]
    }
   ],
   "source": [
    "def isbalanced(string):\n",
    "    stack=[]\n",
    "    for char in string:\n",
    "        if char in \"{[(\":\n",
    "            stack.append(char)\n",
    "            \n",
    "             \n",
    "        elif (char==\")\"):\n",
    "            if (not stack):\n",
    "                return False\n",
    "            stack.pop()\n",
    "        \n",
    "        elif (char==\"}\"):\n",
    "            if (not stack):\n",
    "                return False\n",
    "            stack.pop()\n",
    "        \n",
    "        elif (char==\"]\"):\n",
    "            if (not stack):\n",
    "                return False\n",
    "            stack.pop()\n",
    "            \n",
    "       \n",
    "    if (not stack):\n",
    "        return True\n",
    "    return False\n",
    "string=input()\n",
    "ans=isbalanced(string)\n",
    "print(ans) "
   ]
  },
  {
   "cell_type": "code",
   "execution_count": 23,
   "id": "72016c4b",
   "metadata": {},
   "outputs": [
    {
     "data": {
      "text/plain": [
       "'Not balanced'"
      ]
     },
     "execution_count": 23,
     "metadata": {},
     "output_type": "execute_result"
    }
   ],
   "source": [
    "def isbalanced(s):\n",
    "    stack = []\n",
    "    for i in s:\n",
    "        if i in \"[{(\":\n",
    "            stack.append(i)\n",
    "        if not stack:\n",
    "            return \"Not balanced\"\n",
    "        else:\n",
    "            if i == \"]\":\n",
    "                stack.pop()\n",
    "            elif i == \"}\":\n",
    "                stack.pop()\n",
    "            elif i == \")\":\n",
    "                stack.pop()\n",
    "    if not stack:\n",
    "        return \"Balanced\"\n",
    "    else:\n",
    "        return \"Not Balanced\"\n",
    "isbalanced(\"{[]]}\")"
   ]
  },
  {
   "cell_type": "code",
   "execution_count": null,
   "id": "cd56a96c",
   "metadata": {},
   "outputs": [],
   "source": []
  },
  {
   "cell_type": "code",
   "execution_count": 10,
   "id": "5f904fb0",
   "metadata": {},
   "outputs": [
    {
     "data": {
      "text/plain": [
       "['[{}]']"
      ]
     },
     "execution_count": 10,
     "metadata": {},
     "output_type": "execute_result"
    }
   ],
   "source": [
    "s=[\"[{}]\"]\n",
    "sorted(s)"
   ]
  },
  {
   "cell_type": "code",
   "execution_count": 12,
   "id": "e52d0ad4",
   "metadata": {},
   "outputs": [
    {
     "data": {
      "text/plain": [
       "['}[]']"
      ]
     },
     "execution_count": 12,
     "metadata": {},
     "output_type": "execute_result"
    }
   ],
   "source": [
    "s1=[\"}[]\"]\n",
    "sorted(s1)"
   ]
  },
  {
   "cell_type": "code",
   "execution_count": null,
   "id": "e7949564",
   "metadata": {},
   "outputs": [],
   "source": []
  },
  {
   "cell_type": "markdown",
   "id": "15f2abba",
   "metadata": {},
   "source": [
    "Next Greater Element\n",
    "Given an array arr[ ] of size N having distinct elements, the task is to find the next greater element for each element of the array in order of their appearance in the array.\n",
    "\n",
    "Next greater element of an element in the array is the nearest element on the right which is greater than the current element.\n",
    "If there does not exist next greater of current element, then next greater element for current element is -1. For example, next greater of the last element is always -1.\n",
    "\n",
    "Input: \n",
    "N = 4, arr[] = [1 3 2 4]\n",
    "Output:\n",
    "3 4 4 -1\n",
    "Explanation:\n",
    "In the array, the next larger element \n",
    "to 1 is 3 , 3 is 4 , 2 is 4 and for 4 ? \n",
    "since it doesn't exist, it is -1."
   ]
  },
  {
   "cell_type": "code",
   "execution_count": null,
   "id": "63aa428f",
   "metadata": {},
   "outputs": [],
   "source": []
  },
  {
   "cell_type": "code",
   "execution_count": 50,
   "id": "56ed1c5e",
   "metadata": {},
   "outputs": [
    {
     "data": {
      "text/plain": [
       "[0]"
      ]
     },
     "execution_count": 50,
     "metadata": {},
     "output_type": "execute_result"
    }
   ],
   "source": [
    "###my tried code which has failed\n",
    "def nextGreaterEle(stack,arr,n):\n",
    "    for i in range(n-1):\n",
    "        if not stack :\n",
    "            stack.append(i)\n",
    "        elif i<arr[i+1]:\n",
    "            stack.pop()\n",
    "        return stack \n",
    "            \n",
    "stack=[]\n",
    "arr=[1,3,2,4]\n",
    "n=len(arr)\n",
    "nextGreaterEle(stack,arr,n)"
   ]
  },
  {
   "cell_type": "code",
   "execution_count": null,
   "id": "3e2b28b9",
   "metadata": {},
   "outputs": [],
   "source": []
  },
  {
   "cell_type": "code",
   "execution_count": 60,
   "id": "8279ac44",
   "metadata": {},
   "outputs": [
    {
     "name": "stdout",
     "output_type": "stream",
     "text": [
      "1-> 3\n",
      "2-> -1\n"
     ]
    }
   ],
   "source": [
    "#My code -> ref of geeks for geeks ...something went wrong in this code\n",
    "\n",
    "def createStack():\n",
    "    stack=[]\n",
    "    return stack\n",
    "\n",
    "def isEmpty(stack):\n",
    "    return len(stack)==0\n",
    "\n",
    "def push(stack,x):\n",
    "    stack.append(x)\n",
    "\n",
    "def pop(stack):\n",
    "    if isEmpty(stack)== True:\n",
    "        print(\"error: stack underflow\")\n",
    "    else:\n",
    "        return  stack.pop()\n",
    "        \n",
    "def printnextgreaterEle(arr):\n",
    "    s=createStack()\n",
    "    ele=0\n",
    "    next=0\n",
    "    push(s,arr[0])\n",
    "    for i in range(1,len(arr)-1,1):\n",
    "        next=arr[i]\n",
    "        if isEmpty(s)==False:\n",
    "            ele=pop(s)\n",
    "            while ele<next:\n",
    "                print(str(ele)+\"-> \"+str(next))\n",
    "                if isEmpty(s)==True:\n",
    "                    break\n",
    "                ele=pop(s)\n",
    "                \n",
    "                if ele>next:\n",
    "                    push(s,ele)\n",
    "        push(s,next)\n",
    "    while isEmpty(s)==False:\n",
    "        ele=pop(s)\n",
    "        next=-1\n",
    "        print(str(ele)+\"-> \"+str(next))\n",
    "    \n",
    "    \n",
    "\n",
    "arr=[1,3,2,4]\n",
    "printnextgreaterEle(arr)"
   ]
  },
  {
   "cell_type": "code",
   "execution_count": null,
   "id": "05079dd6",
   "metadata": {},
   "outputs": [],
   "source": []
  },
  {
   "cell_type": "code",
   "execution_count": null,
   "id": "e6afafec",
   "metadata": {},
   "outputs": [],
   "source": []
  },
  {
   "cell_type": "code",
   "execution_count": 16,
   "id": "9c57998f",
   "metadata": {},
   "outputs": [
    {
     "name": "stdout",
     "output_type": "stream",
     "text": [
      "1 -> 3\n",
      "2 -> 4\n",
      "3 -> 4\n",
      "4 -> -1\n"
     ]
    }
   ],
   "source": [
    "# this code is from geeks for geeks\n",
    "# Python program to print next greater element using stack\n",
    "# Stack Functions to be used by printNGE()\n",
    "def createStack():\n",
    "\tstack = []\n",
    "\treturn stack\n",
    "\n",
    "\n",
    "def isEmpty(stack):\n",
    "\treturn len(stack) == 0\n",
    "\n",
    "\n",
    "def push(stack, x):\n",
    "\tstack.append(x)\n",
    "\n",
    "\n",
    "def pop(stack):\n",
    "\tif isEmpty(stack):\n",
    "\t\tprint(\"Error : stack underflow\")\n",
    "\telse:\n",
    "\t\treturn stack.pop()\n",
    "\n",
    "\n",
    "'''prints element and NGE pair for all elements of\n",
    "arr[] '''\n",
    "\n",
    "\n",
    "def printNGE(arr):\n",
    "\ts = createStack()\n",
    "\telement = 0\n",
    "\tnext = 0\n",
    "\n",
    "\t# push the first element to stack\n",
    "\tpush(s, arr[0])\n",
    "\n",
    "\t# iterate for rest of the elements\n",
    "\tfor i in range(1, len(arr), 1):\n",
    "\t\tnext = arr[i]\n",
    "\n",
    "\t\tif isEmpty(s) == False:\n",
    "\n",
    "\t\t\t# if stack is not empty, then pop an element from stack\n",
    "\t\t\telement = pop(s)\n",
    "\n",
    "\t\t\t'''If the popped element is smaller than next, then\n",
    "\t\t\t\ta) print the pair\n",
    "\t\t\t\tb) keep popping while elements are smaller and\n",
    "\t\t\t\tstack is not empty '''\n",
    "\t\t\twhile element < next:\n",
    "\t\t\t\tprint(str(element) + \" -> \" + str(next))\n",
    "\t\t\t\tif isEmpty(s) == True:\n",
    "\t\t\t\t\tbreak\n",
    "\t\t\t\telement = pop(s)\n",
    "\n",
    "\t\t\t'''If element is greater than next, then push\n",
    "\t\t\tthe element back '''\n",
    "\t\t\tif element > next:\n",
    "\t\t\t\tpush(s, element)\n",
    "\n",
    "\t\t'''push next to stack so that we can find\n",
    "\t\tnext greater for it '''\n",
    "\t\tpush(s, next)\n",
    "\n",
    "\t'''After iterating over the loop, the remaining\n",
    "\telements in stack do not have the next greater\n",
    "\telement, so print -1 for them '''\n",
    "\n",
    "\twhile isEmpty(s) == False:\n",
    "\t\telement = pop(s)\n",
    "\t\tnext = -1\n",
    "\t\tprint(str(element) + \" -> \" + str(next))\n",
    "\n",
    "\n",
    "#Driver code\n",
    "arr = [1,3,2,4]\n",
    "printNGE(arr) \n",
    "\n"
   ]
  },
  {
   "cell_type": "markdown",
   "id": "9a5ee07f",
   "metadata": {},
   "source": [
    "# Infix,Prefix annd postfix:"
   ]
  },
  {
   "cell_type": "code",
   "execution_count": null,
   "id": "0419f8a2",
   "metadata": {},
   "outputs": [],
   "source": [
    "Infix-->  a+b  a-b   a*b   a/b\n",
    "Prefix--> +ab  -ab   *ab   /ab\n",
    "Postfix-->ab+  ab-   ab*   ab/\n",
    "\n",
    "Precedences in descending order be like:\n",
    "    operator  precedence   Associativity\n",
    "    ()        4                  -\n",
    "    ^         3            right to left\n",
    "    /*        2            left to right\n",
    "    +-        1            left to right\n",
    "    \n",
    "    \n",
    "e.g.\n",
    "\n",
    "A*(B+C)*D  -> Infix \n",
    "ABC+*D*    -> Postfix\n",
    "\n",
    "\n",
    "    \n",
    "\n",
    "x-y*z to prefix and postfix\n",
    "#manual method:\n",
    "prefix---->>>\n",
    "step1-parenthesize the expression  ---->>>(x-(y*z))\n",
    "step2-(x-[*yz])\n",
    "step3-(-x*yz) ....prefix\n",
    "\n",
    "\n",
    "postfix---->>\n",
    "step1-parenthesize the expression  ---->>>(x-(y*z))\n",
    "step2-(x-[yz*])\n",
    "step3-(xyz*-)\n",
    "\n",
    "\n",
    "\n",
    "\n",
    "  \n"
   ]
  },
  {
   "cell_type": "markdown",
   "id": "49e1e3ff",
   "metadata": {},
   "source": [
    "# Infix to Postfix:"
   ]
  },
  {
   "cell_type": "code",
   "execution_count": 26,
   "id": "52e492c7",
   "metadata": {},
   "outputs": [
    {
     "name": "stdout",
     "output_type": "stream",
     "text": [
      "exp is  a+b(c-d)*ef\n"
     ]
    },
    {
     "data": {
      "text/plain": [
       "'abcd-ef*+'"
      ]
     },
     "execution_count": 26,
     "metadata": {},
     "output_type": "execute_result"
    }
   ],
   "source": [
    "def notgreater(stack, i):\n",
    "    precedence = {'+': 1, '-': 1, '%':2, '/':2, '*':2, '^':3}\n",
    "    if stack[-1] == '(':\n",
    "        return False\n",
    "    if precedence[i] <= precedence[stack[-1]]:\n",
    "        return True\n",
    "    else:\n",
    "        return False\n",
    "\n",
    "def infixToPostfix(exp):\n",
    "    \n",
    "    stack = []\n",
    "    output = \"\"\n",
    "    exp = exp.replace(' ', '')\n",
    "    print(\"exp is \", exp)\n",
    "    for i in exp:\n",
    "        if i.isalnum() == True:\n",
    "            output = output+i\n",
    "        elif i == '(':\n",
    "            stack.append(i)\n",
    "        elif i == ')':\n",
    "            while(len(stack) !=0 and stack[-1] != '('):\n",
    "                n = stack.pop()\n",
    "                output = output + n\n",
    "            else:\n",
    "                m=stack.pop()\n",
    "        else:\n",
    "            while(len(stack)!=0 and notgreater(stack, i)):\n",
    "                o = stack.pop()\n",
    "                output = output + o\n",
    "            stack.append(i)\n",
    "    while(len(stack)!=0):\n",
    "        g = stack.pop()\n",
    "        output = output + g\n",
    "    return output\n",
    "\n",
    "    \n",
    "infixToPostfix(' a+b(c-d)*ef')"
   ]
  },
  {
   "cell_type": "code",
   "execution_count": null,
   "id": "6bc66827",
   "metadata": {},
   "outputs": [],
   "source": []
  },
  {
   "cell_type": "code",
   "execution_count": 44,
   "id": "8653c6c5",
   "metadata": {},
   "outputs": [
    {
     "data": {
      "text/plain": [
       "'abcd-ef*+'"
      ]
     },
     "execution_count": 44,
     "metadata": {},
     "output_type": "execute_result"
    }
   ],
   "source": [
    "operators = {\"+\",\"-\", \"*\",\"/\",\"%\",\"^\",\"(\",\")\"}\n",
    "precedence = {\"(\":0,\")\":0,\"+\":1,\"-\":1,\"/\":2,\"*\":2,\"%\":2,\"^\":3}\n",
    "def in_to_post(x):\n",
    "    stack = []\n",
    "    output = ''\n",
    "    for i in x:\n",
    "        if i not in operators:\n",
    "            output+=i\n",
    "            \n",
    "        elif i == \"(\":\n",
    "            stack.append(i)\n",
    "            \n",
    "        elif i == \")\":\n",
    "            while stack[-1] != \"(\":\n",
    "                output += stack.pop()\n",
    "            stack.pop()\n",
    "            \n",
    "        else:\n",
    "            while stack and precedence[i] <= precedence[stack[-1]]:\n",
    "                output += stack.pop()\n",
    "            stack.append(i)\n",
    "            \n",
    "    while stack:\n",
    "        output += stack.pop()\n",
    "    return output\n",
    "    \n",
    "in_to_post('a+b(c-d)*ef')\n"
   ]
  },
  {
   "cell_type": "code",
   "execution_count": null,
   "id": "3c26d75a",
   "metadata": {},
   "outputs": [],
   "source": []
  },
  {
   "cell_type": "code",
   "execution_count": null,
   "id": "0d454c9b",
   "metadata": {},
   "outputs": [],
   "source": []
  },
  {
   "cell_type": "code",
   "execution_count": null,
   "id": "10e111bc",
   "metadata": {},
   "outputs": [],
   "source": []
  },
  {
   "cell_type": "code",
   "execution_count": null,
   "id": "46cd712c",
   "metadata": {},
   "outputs": [],
   "source": [
    "\n"
   ]
  },
  {
   "cell_type": "code",
   "execution_count": null,
   "id": "215d4604",
   "metadata": {},
   "outputs": [],
   "source": []
  },
  {
   "cell_type": "code",
   "execution_count": null,
   "id": "e0a4be5c",
   "metadata": {},
   "outputs": [],
   "source": []
  },
  {
   "cell_type": "markdown",
   "id": "d3de4553",
   "metadata": {},
   "source": []
  }
 ],
 "metadata": {
  "kernelspec": {
   "display_name": "Python 3 (ipykernel)",
   "language": "python",
   "name": "python3"
  },
  "language_info": {
   "codemirror_mode": {
    "name": "ipython",
    "version": 3
   },
   "file_extension": ".py",
   "mimetype": "text/x-python",
   "name": "python",
   "nbconvert_exporter": "python",
   "pygments_lexer": "ipython3",
   "version": "3.10.1"
  }
 },
 "nbformat": 4,
 "nbformat_minor": 5
}
