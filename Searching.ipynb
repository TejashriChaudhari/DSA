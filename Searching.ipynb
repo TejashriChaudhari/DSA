{
 "cells": [
  {
   "cell_type": "markdown",
   "id": "9e5afb97",
   "metadata": {},
   "source": [
    "# Linear search:\n"
   ]
  },
  {
   "cell_type": "code",
   "execution_count": 19,
   "id": "86dbf8e3",
   "metadata": {},
   "outputs": [
    {
     "data": {
      "text/plain": [
       "2"
      ]
     },
     "execution_count": 19,
     "metadata": {},
     "output_type": "execute_result"
    }
   ],
   "source": [
    "arr=[2,56,7,9,8]\n",
    "arr[0]"
   ]
  },
  {
   "cell_type": "code",
   "execution_count": null,
   "id": "440ad474",
   "metadata": {},
   "outputs": [],
   "source": []
  },
  {
   "cell_type": "code",
   "execution_count": null,
   "id": "899cb4cb",
   "metadata": {},
   "outputs": [],
   "source": []
  },
  {
   "cell_type": "code",
   "execution_count": null,
   "id": "26291008",
   "metadata": {},
   "outputs": [],
   "source": []
  },
  {
   "cell_type": "code",
   "execution_count": 20,
   "id": "6f188d7a",
   "metadata": {},
   "outputs": [
    {
     "name": "stdout",
     "output_type": "stream",
     "text": [
      "65\n"
     ]
    },
    {
     "data": {
      "text/plain": [
       "65"
      ]
     },
     "execution_count": 20,
     "metadata": {},
     "output_type": "execute_result"
    }
   ],
   "source": [
    "def linear_search(arr,searchElement):\n",
    "    \n",
    "    for i in arr:\n",
    "        if searchElement==i:#here I directly compared no with no instead of its index with searchele, so it will give no as output\n",
    "            print(i)\n",
    "            return i\n",
    "    \n",
    "\n",
    "    \n",
    "arr=[2,8,65,7,-9]  \n",
    "n=len(arr)\n",
    "linear_search(arr,65)    \n",
    "    "
   ]
  },
  {
   "cell_type": "code",
   "execution_count": null,
   "id": "16e04e6c",
   "metadata": {},
   "outputs": [],
   "source": []
  },
  {
   "cell_type": "markdown",
   "id": "9f4ed06c",
   "metadata": {},
   "source": []
  },
  {
   "cell_type": "code",
   "execution_count": 6,
   "id": "ad052ae8",
   "metadata": {
    "scrolled": true
   },
   "outputs": [
    {
     "ename": "TypeError",
     "evalue": "'int' object is not iterable",
     "output_type": "error",
     "traceback": [
      "\u001b[1;31m---------------------------------------------------------------------------\u001b[0m",
      "\u001b[1;31mTypeError\u001b[0m                                 Traceback (most recent call last)",
      "Input \u001b[1;32mIn [6]\u001b[0m, in \u001b[0;36m<module>\u001b[1;34m\u001b[0m\n\u001b[0;32m      5\u001b[0m         \u001b[38;5;28;01mreturn\u001b[39;00m \n\u001b[0;32m      7\u001b[0m arr\u001b[38;5;241m=\u001b[39m[\u001b[38;5;241m1\u001b[39m,\u001b[38;5;241m9\u001b[39m,\u001b[38;5;241m-\u001b[39m\u001b[38;5;241m7\u001b[39m,\u001b[38;5;241m65\u001b[39m,\u001b[38;5;241m4\u001b[39m,\u001b[38;5;241m54\u001b[39m,\u001b[38;5;241m3\u001b[39m]    \n\u001b[1;32m----> 8\u001b[0m index\u001b[38;5;241m=\u001b[39m\u001b[43mlinearSearch\u001b[49m\u001b[43m(\u001b[49m\u001b[43marr\u001b[49m\u001b[43m,\u001b[49m\u001b[38;5;241;43m-\u001b[39;49m\u001b[38;5;241;43m7\u001b[39;49m\u001b[43m)\u001b[49m  \n\u001b[0;32m      9\u001b[0m \u001b[38;5;28mprint\u001b[39m(index)\n",
      "Input \u001b[1;32mIn [6]\u001b[0m, in \u001b[0;36mlinearSearch\u001b[1;34m(arr, searchEle)\u001b[0m\n\u001b[0;32m      1\u001b[0m \u001b[38;5;28;01mdef\u001b[39;00m \u001b[38;5;21mlinearSearch\u001b[39m(arr,searchEle):\n\u001b[1;32m----> 2\u001b[0m     \u001b[38;5;28;01mfor\u001b[39;00m i \u001b[38;5;129;01min\u001b[39;00m \u001b[38;5;28mlen\u001b[39m(arr):\n\u001b[0;32m      3\u001b[0m         \u001b[38;5;28;01mif\u001b[39;00m (searchEle\u001b[38;5;241m==\u001b[39marr[i]):\n\u001b[0;32m      4\u001b[0m             \u001b[38;5;28;01mreturn\u001b[39;00m i\n",
      "\u001b[1;31mTypeError\u001b[0m: 'int' object is not iterable"
     ]
    }
   ],
   "source": [
    "def linearSearch(arr,searchEle):\n",
    "    for i in len(arr):\n",
    "        if (searchEle==arr[i]):\n",
    "            return i   \n",
    "        return \n",
    "    \n",
    "arr=[1,9,-7,65,4,54,3]    \n",
    "index=linearSearch(arr,-7)  \n",
    "print(index)"
   ]
  },
  {
   "cell_type": "code",
   "execution_count": null,
   "id": "5addc2de",
   "metadata": {},
   "outputs": [],
   "source": []
  },
  {
   "cell_type": "markdown",
   "id": "647a6c48",
   "metadata": {},
   "source": [
    "#in this case , I used two return instead of single, so for loop and if cond will run as it runs always but whatever the value of 1st return it will store somewhere in memory , but python knows one thing/it is smart enough that we have to print value of last value of return function rather than 1st return.\n",
    "\n",
    "##by default; when we will write return only or return none , both will return none."
   ]
  },
  {
   "cell_type": "code",
   "execution_count": 7,
   "id": "70f581d1",
   "metadata": {},
   "outputs": [
    {
     "name": "stdout",
     "output_type": "stream",
     "text": [
      "None\n"
     ]
    }
   ],
   "source": [
    "def linearSearch(arr,searchEle):\n",
    "    for i in range(len(arr)):\n",
    "        if (searchEle==arr[i]):\n",
    "            return i\n",
    "        return \n",
    "    \n",
    "arr=[1,9,-7,65,4,54,3]    \n",
    "index=linearSearch(arr,-7)  \n",
    "print(index)"
   ]
  },
  {
   "cell_type": "code",
   "execution_count": null,
   "id": "824784b1",
   "metadata": {},
   "outputs": [],
   "source": []
  },
  {
   "cell_type": "code",
   "execution_count": 12,
   "id": "359becb1",
   "metadata": {},
   "outputs": [
    {
     "name": "stdout",
     "output_type": "stream",
     "text": [
      "None\n"
     ]
    }
   ],
   "source": [
    "def linearSearch(arr,searchEle):\n",
    "    for i in range(len(arr)-1):\n",
    "        if (searchEle==arr[i]):\n",
    "            return i\n",
    "        return \n",
    "arr=[2,56,78,9]\n",
    "index=linearSearch(arr,78)\n",
    "print(index)"
   ]
  },
  {
   "cell_type": "code",
   "execution_count": null,
   "id": "b8b92c76",
   "metadata": {},
   "outputs": [],
   "source": []
  },
  {
   "cell_type": "code",
   "execution_count": 13,
   "id": "496bb40f",
   "metadata": {
    "scrolled": true
   },
   "outputs": [
    {
     "name": "stdout",
     "output_type": "stream",
     "text": [
      "-1\n"
     ]
    }
   ],
   "source": [
    "def linearSearch(arr,searchEle):\n",
    "    for i in range(len(arr)):\n",
    "        if (searchEle==arr[i]):\n",
    "            return i\n",
    "        return -1\n",
    "    \n",
    "arr=[1,9,-7,65,4,54,3]    \n",
    "index=linearSearch(arr,-7)  \n",
    "print(index)"
   ]
  },
  {
   "cell_type": "code",
   "execution_count": null,
   "id": "5c76f9ea",
   "metadata": {},
   "outputs": [],
   "source": []
  },
  {
   "cell_type": "code",
   "execution_count": 16,
   "id": "127b75a7",
   "metadata": {},
   "outputs": [
    {
     "name": "stdout",
     "output_type": "stream",
     "text": [
      "2\n"
     ]
    }
   ],
   "source": [
    "def linearSearch(arr,searchEle):\n",
    "    for i in range(len(arr)-1):\n",
    "        if (searchEle==arr[i]):\n",
    "            return i\n",
    "        \n",
    "    \n",
    "arr=[1,9,-7,65,4,54,3]    \n",
    "index=linearSearch(arr,-7)  \n",
    "print(index)"
   ]
  },
  {
   "cell_type": "code",
   "execution_count": null,
   "id": "af9521ed",
   "metadata": {},
   "outputs": [],
   "source": []
  },
  {
   "cell_type": "code",
   "execution_count": 18,
   "id": "41924603",
   "metadata": {},
   "outputs": [
    {
     "name": "stdout",
     "output_type": "stream",
     "text": [
      "2\n"
     ]
    }
   ],
   "source": [
    "def linearSearch(arr,searchEle):\n",
    "    for i in range(len(arr)):\n",
    "        if (searchEle==arr[i]):\n",
    "            print(i)\n",
    "        \n",
    "    \n",
    "arr=[1,9,-7,65,4,54,3]    \n",
    "linearSearch(arr,-7)  "
   ]
  },
  {
   "cell_type": "code",
   "execution_count": null,
   "id": "f3f6d195",
   "metadata": {},
   "outputs": [],
   "source": []
  }
 ],
 "metadata": {
  "kernelspec": {
   "display_name": "Python 3 (ipykernel)",
   "language": "python",
   "name": "python3"
  },
  "language_info": {
   "codemirror_mode": {
    "name": "ipython",
    "version": 3
   },
   "file_extension": ".py",
   "mimetype": "text/x-python",
   "name": "python",
   "nbconvert_exporter": "python",
   "pygments_lexer": "ipython3",
   "version": "3.10.1"
  }
 },
 "nbformat": 4,
 "nbformat_minor": 5
}
