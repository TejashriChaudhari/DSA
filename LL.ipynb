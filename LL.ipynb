{
 "cells": [
  {
   "cell_type": "code",
   "execution_count": 32,
   "id": "e886bbe1",
   "metadata": {},
   "outputs": [
    {
     "name": "stdout",
     "output_type": "stream",
     "text": [
      "10\n",
      "20\n",
      "20\n",
      "1555724990688\n",
      "1555724991696\n",
      "<__main__.Node object at 0x0000016A386F7CD0>\n",
      "<__main__.Node object at 0x0000016A386F7CD0>\n"
     ]
    },
    {
     "ename": "AttributeError",
     "evalue": "'NoneType' object has no attribute 'data'",
     "output_type": "error",
     "traceback": [
      "\u001b[1;31m---------------------------------------------------------------------------\u001b[0m",
      "\u001b[1;31mAttributeError\u001b[0m                            Traceback (most recent call last)",
      "Input \u001b[1;32mIn [32]\u001b[0m, in \u001b[0;36m<module>\u001b[1;34m\u001b[0m\n\u001b[0;32m     15\u001b[0m \u001b[38;5;28mprint\u001b[39m(a\u001b[38;5;241m.\u001b[39mnext)\n\u001b[0;32m     16\u001b[0m \u001b[38;5;28mprint\u001b[39m(b)\n\u001b[1;32m---> 17\u001b[0m \u001b[38;5;28mprint\u001b[39m(\u001b[43mb\u001b[49m\u001b[38;5;241;43m.\u001b[39;49m\u001b[43mnext\u001b[49m\u001b[38;5;241;43m.\u001b[39;49m\u001b[43mdata\u001b[49m)\n",
      "\u001b[1;31mAttributeError\u001b[0m: 'NoneType' object has no attribute 'data'"
     ]
    }
   ],
   "source": [
    "##Simple way of creating LL approach:\n",
    "class Node:\n",
    "    def __init__(self,data):\n",
    "        self.data=data\n",
    "        self.next=None\n",
    "\n",
    "a=Node(10)\n",
    "b=Node(20)\n",
    "a.next=b\n",
    "print(a.data)\n",
    "print(b.data)\n",
    "print(a.next.data)\n",
    "print(id(a))\n",
    "print(id(b))\n",
    "print(a.next)\n",
    "print(b)\n",
    "print(b.next.data) ##bcoz b sathi next ele cha address nhi dilaye\n",
    "\n",
    "\n",
    "        \n"
   ]
  },
  {
   "cell_type": "code",
   "execution_count": null,
   "id": "bbe17119",
   "metadata": {},
   "outputs": [],
   "source": []
  },
  {
   "cell_type": "code",
   "execution_count": 13,
   "id": "bfede324",
   "metadata": {},
   "outputs": [
    {
     "name": "stdout",
     "output_type": "stream",
     "text": [
      "23\n",
      "24\n",
      "25\n",
      "24\n",
      "25\n",
      "25\n"
     ]
    },
    {
     "ename": "AttributeError",
     "evalue": "'NoneType' object has no attribute 'data'",
     "output_type": "error",
     "traceback": [
      "\u001b[1;31m---------------------------------------------------------------------------\u001b[0m",
      "\u001b[1;31mAttributeError\u001b[0m                            Traceback (most recent call last)",
      "Input \u001b[1;32mIn [13]\u001b[0m, in \u001b[0;36m<module>\u001b[1;34m\u001b[0m\n\u001b[0;32m     16\u001b[0m \u001b[38;5;28mprint\u001b[39m(b\u001b[38;5;241m.\u001b[39mnext\u001b[38;5;241m.\u001b[39mdata)\n\u001b[0;32m     17\u001b[0m \u001b[38;5;28mprint\u001b[39m(a\u001b[38;5;241m.\u001b[39mnext\u001b[38;5;241m.\u001b[39mnext\u001b[38;5;241m.\u001b[39mdata)\n\u001b[1;32m---> 18\u001b[0m \u001b[38;5;28mprint\u001b[39m(\u001b[43mc\u001b[49m\u001b[38;5;241;43m.\u001b[39;49m\u001b[43mnext\u001b[49m\u001b[38;5;241;43m.\u001b[39;49m\u001b[43mdata\u001b[49m)\n",
      "\u001b[1;31mAttributeError\u001b[0m: 'NoneType' object has no attribute 'data'"
     ]
    }
   ],
   "source": [
    "class Node:\n",
    "    def __init__(self,data):\n",
    "        self.data=data\n",
    "        self.next=None\n",
    "\n",
    "a=Node(23)\n",
    "b=Node(24)\n",
    "c=Node(25)\n",
    "a.next=b\n",
    "b.next=c\n",
    "c.next=None\n",
    "print(a.data)\n",
    "print(b.data)\n",
    "print(c.data)\n",
    "print(a.next.data)\n",
    "print(b.next.data)\n",
    "print(a.next.next.data)\n",
    "print(c.next.data)"
   ]
  },
  {
   "cell_type": "code",
   "execution_count": null,
   "id": "a12e9cb1",
   "metadata": {},
   "outputs": [],
   "source": []
  },
  {
   "cell_type": "markdown",
   "id": "cea2950e",
   "metadata": {},
   "source": [
    "# code for empty LL case:"
   ]
  },
  {
   "cell_type": "code",
   "execution_count": 37,
   "id": "4969460e",
   "metadata": {
    "scrolled": true
   },
   "outputs": [
    {
     "name": "stdout",
     "output_type": "stream",
     "text": [
      "<__main__.LL object at 0x0000016A38A08820>\n",
      "<__main__.Node object at 0x0000016A386FC460>\n",
      "12\n",
      "None\n"
     ]
    }
   ],
   "source": [
    "class Node:\n",
    "    def __init__(self,data):\n",
    "        self.data=data\n",
    "        self.next=None\n",
    "class LL:\n",
    "    def __init__(self):\n",
    "        self.head=None\n",
    "        \n",
    "    def append(self,ele):\n",
    "        new_node=Node(ele) ###here we will be passing data to Node class then; init will create data and next \n",
    "        if self.head is None:\n",
    "            self.head=  new_node\n",
    "            return \n",
    "ll=LL()\n",
    "ll.append(12)\n",
    "ll.append(14)\n",
    "print(ll)    \n",
    "print(ll.head)\n",
    "print(ll.head.data)\n",
    "print(ll.head.next) ##didn't get this pt"
   ]
  },
  {
   "cell_type": "code",
   "execution_count": null,
   "id": "7674634b",
   "metadata": {},
   "outputs": [],
   "source": []
  },
  {
   "cell_type": "markdown",
   "id": "edc35f56",
   "metadata": {},
   "source": [
    "# Code for non-empty LL:\n"
   ]
  },
  {
   "cell_type": "code",
   "execution_count": 57,
   "id": "288a8cf1",
   "metadata": {},
   "outputs": [
    {
     "name": "stdout",
     "output_type": "stream",
     "text": [
      "T->"
     ]
    }
   ],
   "source": [
    "class Node:\n",
    "    def __init__(self,data):\n",
    "        self.data=data\n",
    "        self.next=None\n",
    "class LL:\n",
    "    def __init__(self):\n",
    "        self.head=None\n",
    "        \n",
    "    def printll(self):\n",
    "        curr_node=self.head\n",
    "        if curr_node is not None:\n",
    "            print(curr_node.data,end=\"->\")\n",
    "            curr_node=curr_node.next    \n",
    "    \n",
    "    def append(self,ele):\n",
    "        newNode=Node(ele)\n",
    "      \n",
    "        if self.head is None:\n",
    "            self.head=newNode\n",
    "            return\n",
    "        curr_node=self.head\n",
    "        while curr_node.next is not None:\n",
    "            curr_node=curr_node.next\n",
    "        curr_node.next=newNode\n",
    "        \n",
    "        \n",
    "            \n",
    "            \n",
    "\n",
    "ll=LL()\n",
    "ll.append(\"T\")\n",
    "ll.append(\"E\")\n",
    "ll.append(\"J\")\n",
    "ll.append(\"A\")\n",
    "ll.printll()\n",
    "        "
   ]
  },
  {
   "cell_type": "code",
   "execution_count": null,
   "id": "5b0880f9",
   "metadata": {},
   "outputs": [],
   "source": []
  },
  {
   "cell_type": "code",
   "execution_count": null,
   "id": "d47671c6",
   "metadata": {},
   "outputs": [],
   "source": []
  },
  {
   "cell_type": "code",
   "execution_count": null,
   "id": "1f423394",
   "metadata": {},
   "outputs": [],
   "source": [
    "#vaibhav code:"
   ]
  },
  {
   "cell_type": "code",
   "execution_count": 60,
   "id": "0c3fc22c",
   "metadata": {},
   "outputs": [
    {
     "ename": "NameError",
     "evalue": "name 'ele' is not defined",
     "output_type": "error",
     "traceback": [
      "\u001b[1;31m---------------------------------------------------------------------------\u001b[0m",
      "\u001b[1;31mNameError\u001b[0m                                 Traceback (most recent call last)",
      "Input \u001b[1;32mIn [60]\u001b[0m, in \u001b[0;36m<module>\u001b[1;34m\u001b[0m\n\u001b[0;32m     26\u001b[0m         curr_node\u001b[38;5;241m.\u001b[39mnext \u001b[38;5;241m=\u001b[39m new_node\n\u001b[0;32m     28\u001b[0m l \u001b[38;5;241m=\u001b[39m LL\n\u001b[1;32m---> 29\u001b[0m \u001b[43ml\u001b[49m\u001b[38;5;241;43m.\u001b[39;49m\u001b[43mappendd\u001b[49m\u001b[43m(\u001b[49m\u001b[38;5;124;43m'\u001b[39;49m\u001b[38;5;124;43m1\u001b[39;49m\u001b[38;5;124;43m'\u001b[39;49m\u001b[43m)\u001b[49m\n\u001b[0;32m     30\u001b[0m l\u001b[38;5;241m.\u001b[39mappendd(\u001b[38;5;124m'\u001b[39m\u001b[38;5;124m2\u001b[39m\u001b[38;5;124m'\u001b[39m)\n\u001b[0;32m     31\u001b[0m l\u001b[38;5;241m.\u001b[39mappendd(\u001b[38;5;124m'\u001b[39m\u001b[38;5;124m3\u001b[39m\u001b[38;5;124m'\u001b[39m)\n",
      "Input \u001b[1;32mIn [60]\u001b[0m, in \u001b[0;36mLL.appendd\u001b[1;34m(self)\u001b[0m\n\u001b[0;32m     17\u001b[0m \u001b[38;5;28;01mdef\u001b[39;00m \u001b[38;5;21mappendd\u001b[39m(\u001b[38;5;28mself\u001b[39m):\n\u001b[1;32m---> 18\u001b[0m     new_node \u001b[38;5;241m=\u001b[39m Node(\u001b[43mele\u001b[49m)\n\u001b[0;32m     19\u001b[0m     \u001b[38;5;28;01mif\u001b[39;00m \u001b[38;5;28mself\u001b[39m\u001b[38;5;241m.\u001b[39mhead \u001b[38;5;129;01mis\u001b[39;00m \u001b[38;5;28;01mNone\u001b[39;00m:\n\u001b[0;32m     20\u001b[0m         \u001b[38;5;28mself\u001b[39m\u001b[38;5;241m.\u001b[39mhead \u001b[38;5;241m=\u001b[39m new_node\n",
      "\u001b[1;31mNameError\u001b[0m: name 'ele' is not defined"
     ]
    }
   ],
   "source": [
    "class Node:\n",
    "    def __init__(self, data):\n",
    "        self.data = data\n",
    "        self.next = None\n",
    "\n",
    "class LL:\n",
    "    \n",
    "    def __init__(self):\n",
    "        self.head = None\n",
    "\n",
    "    def print_ll(self):\n",
    "        curr_node = self.head\n",
    "        if curr_node is not None:\n",
    "            print(curr_node.data, end=\"--->\")\n",
    "            curr_node = curr_node.next\n",
    "\n",
    "    def appendd(self,item):\n",
    "        new_node = Node(item)\n",
    "        if self.head is None:\n",
    "            self.head = new_node\n",
    "            return\n",
    "        curr_node = self.head\n",
    "        l = LL\n",
    "l.appendd('1')\n",
    "l.appendd('2')\n",
    "l.appendd('3')\n",
    "l.appendd('4')\n",
    "l.print_ll()\n",
    "\n",
    "\n",
    "\n",
    "class Node:\n",
    "    def __init__(self, data):\n",
    "        self.data = data\n",
    "        self.next = None\n",
    "\n",
    "class LL:\n",
    "    \n",
    "    def __init__(self):\n",
    "        self.head = None\n",
    "\n",
    "    def print_ll(self):\n",
    "        curr_node = self.head\n",
    "        if curr_node is not None:\n",
    "            print(curr_node.data, end=\"--->\")\n",
    "            curr_node = curr_node.next\n",
    "\n",
    "    def appendd(self,item):\n",
    "        new_node = Node(item)\n",
    "        if self.head is None:\n",
    "            self.head = new_node\n",
    "            return\n",
    "        curr_node = self.hea\n",
    "curr_node = self.head\n",
    "        while curr_node.next is not None:\n",
    "            curr_node = curr_node.next\n",
    "\n",
    "        curr_node.next = new_node\n"
   ]
  },
  {
   "cell_type": "code",
   "execution_count": null,
   "id": "55b8aaf9",
   "metadata": {},
   "outputs": [],
   "source": []
  },
  {
   "cell_type": "code",
   "execution_count": null,
   "id": "fd554813",
   "metadata": {},
   "outputs": [],
   "source": []
  },
  {
   "cell_type": "code",
   "execution_count": null,
   "id": "94d1d82d",
   "metadata": {},
   "outputs": [],
   "source": []
  },
  {
   "cell_type": "code",
   "execution_count": null,
   "id": "8b2a4cf1",
   "metadata": {},
   "outputs": [],
   "source": []
  },
  {
   "cell_type": "code",
   "execution_count": null,
   "id": "35b75b25",
   "metadata": {},
   "outputs": [],
   "source": []
  },
  {
   "cell_type": "code",
   "execution_count": null,
   "id": "909dadb4",
   "metadata": {},
   "outputs": [],
   "source": []
  },
  {
   "cell_type": "code",
   "execution_count": null,
   "id": "94e6ee90",
   "metadata": {},
   "outputs": [],
   "source": []
  },
  {
   "cell_type": "code",
   "execution_count": null,
   "id": "8bc88992",
   "metadata": {},
   "outputs": [],
   "source": []
  },
  {
   "cell_type": "code",
   "execution_count": 39,
   "id": "06e4adeb",
   "metadata": {},
   "outputs": [
    {
     "name": "stdout",
     "output_type": "stream",
     "text": [
      "<__main__.LinkedList object at 0x0000016A386FD0F0>\n"
     ]
    }
   ],
   "source": [
    "class Node:\n",
    "    def __init__(self, data):\n",
    "        self.data = data\n",
    "        self.next = None\n",
    "        \n",
    "class LinkedList:\n",
    "    \n",
    "    def __init__(self):\n",
    "        self.head = None\n",
    "        \n",
    "    def append(self , data):\n",
    "        new_node = Node(data)\n",
    "        if self.head is None:\n",
    "            self.head = new_node\n",
    "            return\n",
    "        \n",
    "        curr_node = self.head\n",
    "        while curr_node.next is not None:\n",
    "            curr_node = curr_node.next\n",
    "        \n",
    "        curr_node.next = new_node\n",
    "        \n",
    "llist = LinkedList()\n",
    "llist.append('A')\n",
    "llist.append('B')\n",
    "print(llist)"
   ]
  },
  {
   "cell_type": "code",
   "execution_count": null,
   "id": "b7ecb2b5",
   "metadata": {},
   "outputs": [],
   "source": []
  },
  {
   "cell_type": "code",
   "execution_count": null,
   "id": "8d912492",
   "metadata": {},
   "outputs": [],
   "source": []
  }
 ],
 "metadata": {
  "kernelspec": {
   "display_name": "Python 3 (ipykernel)",
   "language": "python",
   "name": "python3"
  },
  "language_info": {
   "codemirror_mode": {
    "name": "ipython",
    "version": 3
   },
   "file_extension": ".py",
   "mimetype": "text/x-python",
   "name": "python",
   "nbconvert_exporter": "python",
   "pygments_lexer": "ipython3",
   "version": "3.10.1"
  }
 },
 "nbformat": 4,
 "nbformat_minor": 5
}
